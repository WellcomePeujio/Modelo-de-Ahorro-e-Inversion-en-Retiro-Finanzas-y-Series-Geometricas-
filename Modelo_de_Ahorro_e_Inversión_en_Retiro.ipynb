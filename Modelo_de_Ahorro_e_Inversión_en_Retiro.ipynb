{
  "nbformat": 4,
  "nbformat_minor": 0,
  "metadata": {
    "colab": {
      "private_outputs": true,
      "provenance": [],
      "authorship_tag": "ABX9TyO7CPPcs1BA/qLpJYdE+5SI",
      "include_colab_link": true
    },
    "kernelspec": {
      "name": "python3",
      "display_name": "Python 3"
    },
    "language_info": {
      "name": "python"
    }
  },
  "cells": [
    {
      "cell_type": "markdown",
      "metadata": {
        "id": "view-in-github",
        "colab_type": "text"
      },
      "source": [
        "<a href=\"https://colab.research.google.com/github/WellcomePeujio/Modelo-de-Ahorro-e-Inversion-en-Retiro-Finanzas-y-Series-Geometricas-/blob/main/Modelo_de_Ahorro_e_Inversi%C3%B3n_en_Retiro.ipynb\" target=\"_parent\"><img src=\"https://colab.research.google.com/assets/colab-badge.svg\" alt=\"Open In Colab\"/></a>"
      ]
    },
    {
      "cell_type": "markdown",
      "source": [
        "# Modelo de Ahorro e Inversión en Retiro (Finanzas y Series Geométricas)\n",
        "\n",
        "## Problema\n",
        "\n",
        "Un trabajador planea ahorrar \\$500 mensuales durante 30 años para su retiro. Se espera que el fondo de inversión tenga un crecimiento anual compuesto del 6%.\n",
        "\n",
        "## Preguntas:\n",
        "\n",
        "1. **Modela el ahorro acumulado como una serie geométrica.**\n",
        "2. **Calcula cuánto tendrá ahorrado al final de los 30 años.**\n"
      ],
      "metadata": {
        "id": "zXJVFiFzbogn"
      }
    },
    {
      "cell_type": "markdown",
      "source": [
        "# Resolución Matemática: Modelo de Ahorro e Inversión en Retiro\n",
        "\n",
        "## Datos del Problema:\n",
        "\n",
        "- El ahorro mensual es \\$( P = 500 \\$) dólares.\n",
        "- La tasa de interés anual es del 6%, lo que da una tasa de interés mensual de:\n",
        "\n",
        "$$\n",
        "r = \\frac{6\\%}{12} = 0.005\n",
        "$$\n",
        "\n",
        "- El tiempo total de ahorro es de 30 años, lo que da un total de:\n",
        "\n",
        "$$\n",
        "n = 30 \\times 12 = 360 \\text{ meses}\n",
        "$$\n",
        "\n",
        "### 1. Modelar el ahorro acumulado como una serie geométrica\n",
        "\n",
        "El ahorro acumulado se puede modelar con la fórmula de la suma de una serie geométrica para un pago recurrente en una cuenta con interés compuesto:\n",
        "\n",
        "$$\n",
        "S_n = P \\cdot \\frac{(1 + r)^n - 1}{r}\n",
        "$$\n",
        "\n",
        "Donde:\n",
        "- \\$(S_n\\$) es el ahorro total acumulado,\n",
        "- \\$(P\\$) es el monto ahorrado cada mes,\n",
        "- \\$(r\\$) es la tasa de interés mensual,\n",
        "- \\$(n\\$) es el número de meses.\n",
        "\n",
        "### 2. Calcular el ahorro total después de 30 años\n",
        "\n",
        "Sustituyendo los valores dados en la fórmula:\n",
        "\n",
        "$$\n",
        "S_{360} = 500 \\cdot \\frac{(1 + 0.005)^{360} - 1}{0.005}\n",
        "$$\n",
        "\n",
        "Primero, calculamos el valor de \\$( (1 + r)^{n} \\$):\n",
        "\n",
        "$$\n",
        "(1 + 0.005)^{360} = (1.005)^{360}\n",
        "$$\n",
        "\n",
        "Evaluamos la potencia:\n",
        "\n",
        "$$\n",
        "(1.005)^{360} \\approx 6.022575\n",
        "$$\n",
        "\n",
        "Sustituimos este valor en la fórmula:\n",
        "\n",
        "$$\n",
        "S_{360} = 500 \\cdot \\frac{6.022575 - 1}{0.005}\n",
        "$$\n",
        "\n",
        "Simplificamos:\n",
        "\n",
        "$$\n",
        "S_{360} = 500 \\cdot \\frac{5.022575}{0.005} = 500 \\cdot 1004.515 = 502,257.52\n",
        "$$\n",
        "\n",
        "Por lo tanto, el ahorro total después de 30 años será aproximadamente **\\$502,257.52**.\n",
        "\n",
        "---\n",
        "\n",
        "### Resumen:\n",
        "\n",
        "1. El modelo de ahorro acumulado es \\$( S_n = P \\cdot \\frac{(1 + r)^n - 1}{r} \\$).\n",
        "2. El total acumulado después de 30 años será aproximadamente **\\$502,257.52**.\n",
        "\n",
        "---\n",
        "\n"
      ],
      "metadata": {
        "id": "PqwOnSBwbwjY"
      }
    },
    {
      "cell_type": "code",
      "source": [
        "import numpy as np\n",
        "import matplotlib.pyplot as plt\n",
        "\n",
        "# Definir los parámetros del problema\n",
        "P = 500  # Ahorro mensual en dólares\n",
        "r = 0.005  # Tasa de interés mensual (6% anual)\n",
        "n = 30 * 12  # Número de meses (30 años)\n",
        "\n",
        "# Función para calcular el ahorro acumulado usando la fórmula de la serie geométrica\n",
        "def ahorro_acumulado(P, r, n):\n",
        "    return P * ((1 + r)**n - 1) / r\n",
        "\n",
        "# Calcular el ahorro total después de 30 años\n",
        "ahorro_total = ahorro_acumulado(P, r, n)\n",
        "print(f\"El ahorro total después de 30 años es: ${ahorro_total:.2f}\")\n",
        "\n",
        "# Crear los valores de los meses para la gráfica\n",
        "meses = np.arange(1, n+1)\n",
        "\n",
        "# Calcular el ahorro acumulado para cada mes\n",
        "ahorro_evolucion = P * ((1 + r)**meses - 1) / r\n",
        "\n",
        "# Graficar la evolución del ahorro acumulado a lo largo del tiempo\n",
        "plt.figure(figsize=(10, 6))\n",
        "plt.plot(meses, ahorro_evolucion, label=\"Ahorro acumulado\", color=\"green\")\n",
        "plt.title(\"Evolución del Ahorro Acumulado en 30 Años\")\n",
        "plt.xlabel(\"Meses\")\n",
        "plt.ylabel(\"Ahorro acumulado ($)\")\n",
        "plt.grid(True)\n",
        "plt.legend()\n",
        "plt.show()\n"
      ],
      "metadata": {
        "id": "hXWCGPLacoik"
      },
      "execution_count": null,
      "outputs": []
    }
  ]
}